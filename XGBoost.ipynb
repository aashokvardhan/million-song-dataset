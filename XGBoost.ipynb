{
 "cells": [
  {
   "cell_type": "markdown",
   "id": "5a0d112c-f367-4286-b041-d0e5a725460c",
   "metadata": {},
   "source": [
    "## Downloading the million songs dataset"
   ]
  },
  {
   "cell_type": "code",
   "execution_count": 5,
   "id": "a973eb84-1c33-4454-b0d2-3303ccff6e5d",
   "metadata": {},
   "outputs": [
    {
     "name": "stderr",
     "output_type": "stream",
     "text": [
      "\n",
      "KeyboardInterrupt\n",
      "\n"
     ]
    }
   ],
   "source": [
    "from urllib.request import urlretrieve\n",
    "from zipfile import ZipFile \n",
    "import pandas as pd\n",
    "import numpy as np\n",
    "import sqlite3\n",
    "import pandas as pd \n",
    "\n",
    "# track metadata columns\n",
    "columns = ['track_id',\n",
    " 'title',\n",
    " 'song_id',\n",
    " 'release',\n",
    " 'artist_id',\n",
    " 'artist_mbid',\n",
    " 'artist_name',\n",
    " 'duration',\n",
    " 'artist_familiarity',\n",
    " 'artist_hotttnesss',\n",
    " 'year',\n",
    " 'track_7digitalid',\n",
    " 'shs_perf',\n",
    " 'shs_work']\n",
    "\n",
    "# Downloading the \n",
    "data_url = 'http://millionsongdataset.com/sites/default/files/challenge/train_triplets.txt.zip'\n",
    "filename = 'train_triplets.txt.zip'\n",
    "output_folder = \"data\"\n",
    "\n",
    "urlretrieve(data_url, filename)\n",
    "\n",
    "# loading the temp.zip and creating a zip object \n",
    "with ZipFile(filename, 'r') as zObject: \n",
    "    zObject.extractall(path=output_folder) \n",
    "\n",
    "h5_link = 'http://millionsongdataset.com/sites/default/files/AdditionalFiles/track_metadata.db'\n",
    "filename = 'track_metadata.db'\n",
    "urlretrieve(h5_link, filename)\n",
    "\n",
    "conn_tmdb = sqlite3.connect('track_metadata.db')\n",
    "\n",
    "res = conn_tmdb.execute(\"SELECT * FROM songs\")\n",
    "data = res.fetchall()\n",
    "\n",
    "track_metadata = pd.DataFrame(data, columns=columns)\n",
    "track_metadata.to_csv('track_metadata.csv', index=False)"
   ]
  },
  {
   "cell_type": "code",
   "execution_count": null,
   "id": "6ab9795e-2a00-46da-ad2c-764e36c0d07a",
   "metadata": {},
   "outputs": [],
   "source": [
    "!pip3 install xgboost seaborn"
   ]
  },
  {
   "cell_type": "markdown",
   "id": "524beb92-454d-4845-ac02-fc8862ead8c2",
   "metadata": {},
   "source": [
    "## Data Loading"
   ]
  },
  {
   "cell_type": "code",
   "execution_count": 4,
   "id": "80aab18a-595b-4765-86aa-ee5f4a7987bb",
   "metadata": {},
   "outputs": [],
   "source": [
    "# Necessary imports \n",
    "import numpy as np \n",
    "import pandas as pd \n",
    "import xgboost as xg \n",
    "from sklearn.model_selection import train_test_split \n",
    "from sklearn.metrics import mean_squared_error as MSE "
   ]
  },
  {
   "cell_type": "markdown",
   "id": "96a6d9c0-d375-4bb2-b4f4-6d0cfbfae109",
   "metadata": {},
   "source": [
    "## Reading Taste Profile Data"
   ]
  },
  {
   "cell_type": "code",
   "execution_count": 26,
   "id": "622c051f-9da5-4dab-88b6-4756d363479f",
   "metadata": {},
   "outputs": [
    {
     "data": {
      "text/plain": [
       "(500000, 3)"
      ]
     },
     "execution_count": 26,
     "metadata": {},
     "output_type": "execute_result"
    }
   ],
   "source": [
    "taste_profile = pd.read_csv('data/train_triplets.txt',sep='\\t',header=None,names = ['user_id','song_id','play_count'], nrows = 500000)#\n",
    "taste_profile.shape"
   ]
  },
  {
   "cell_type": "markdown",
   "id": "4a80f96e-63c5-4cf0-b4e0-29bd593e3b21",
   "metadata": {},
   "source": [
    "## Visualizing first few rows"
   ]
  },
  {
   "cell_type": "code",
   "execution_count": 27,
   "id": "8e3d9cee-d33c-437a-94e4-d3fd4e903e7a",
   "metadata": {},
   "outputs": [
    {
     "data": {
      "text/html": [
       "<div>\n",
       "<style scoped>\n",
       "    .dataframe tbody tr th:only-of-type {\n",
       "        vertical-align: middle;\n",
       "    }\n",
       "\n",
       "    .dataframe tbody tr th {\n",
       "        vertical-align: top;\n",
       "    }\n",
       "\n",
       "    .dataframe thead th {\n",
       "        text-align: right;\n",
       "    }\n",
       "</style>\n",
       "<table border=\"1\" class=\"dataframe\">\n",
       "  <thead>\n",
       "    <tr style=\"text-align: right;\">\n",
       "      <th></th>\n",
       "      <th>user_id</th>\n",
       "      <th>song_id</th>\n",
       "      <th>play_count</th>\n",
       "    </tr>\n",
       "  </thead>\n",
       "  <tbody>\n",
       "    <tr>\n",
       "      <th>0</th>\n",
       "      <td>b80344d063b5ccb3212f76538f3d9e43d87dca9e</td>\n",
       "      <td>SOAKIMP12A8C130995</td>\n",
       "      <td>1</td>\n",
       "    </tr>\n",
       "    <tr>\n",
       "      <th>1</th>\n",
       "      <td>b80344d063b5ccb3212f76538f3d9e43d87dca9e</td>\n",
       "      <td>SOAPDEY12A81C210A9</td>\n",
       "      <td>1</td>\n",
       "    </tr>\n",
       "    <tr>\n",
       "      <th>2</th>\n",
       "      <td>b80344d063b5ccb3212f76538f3d9e43d87dca9e</td>\n",
       "      <td>SOBBMDR12A8C13253B</td>\n",
       "      <td>2</td>\n",
       "    </tr>\n",
       "    <tr>\n",
       "      <th>3</th>\n",
       "      <td>b80344d063b5ccb3212f76538f3d9e43d87dca9e</td>\n",
       "      <td>SOBFNSP12AF72A0E22</td>\n",
       "      <td>1</td>\n",
       "    </tr>\n",
       "    <tr>\n",
       "      <th>4</th>\n",
       "      <td>b80344d063b5ccb3212f76538f3d9e43d87dca9e</td>\n",
       "      <td>SOBFOVM12A58A7D494</td>\n",
       "      <td>1</td>\n",
       "    </tr>\n",
       "  </tbody>\n",
       "</table>\n",
       "</div>"
      ],
      "text/plain": [
       "                                    user_id             song_id  play_count\n",
       "0  b80344d063b5ccb3212f76538f3d9e43d87dca9e  SOAKIMP12A8C130995           1\n",
       "1  b80344d063b5ccb3212f76538f3d9e43d87dca9e  SOAPDEY12A81C210A9           1\n",
       "2  b80344d063b5ccb3212f76538f3d9e43d87dca9e  SOBBMDR12A8C13253B           2\n",
       "3  b80344d063b5ccb3212f76538f3d9e43d87dca9e  SOBFNSP12AF72A0E22           1\n",
       "4  b80344d063b5ccb3212f76538f3d9e43d87dca9e  SOBFOVM12A58A7D494           1"
      ]
     },
     "execution_count": 27,
     "metadata": {},
     "output_type": "execute_result"
    }
   ],
   "source": [
    "taste_profile.head()"
   ]
  },
  {
   "cell_type": "markdown",
   "id": "3c4dd2ee-8b18-485b-86ca-6b894faa626c",
   "metadata": {},
   "source": [
    "## Song most played"
   ]
  },
  {
   "cell_type": "code",
   "execution_count": 37,
   "id": "0d438007-43da-4eb9-8594-06a61a491514",
   "metadata": {},
   "outputs": [
    {
     "name": "stdout",
     "output_type": "stream",
     "text": [
      "song_id\n",
      "SOFRQTD12A81C233C0    989\n",
      "SOAXGDH12A8C13F8A1    807\n",
      "SONYKOW12AB01849C9    694\n",
      "SOAUWYT12A81C206F1    673\n",
      "SOSXLTC12AF72A7F54    608\n",
      "                     ... \n",
      "SOMBOYD12AB0183BC9      1\n",
      "SOMIVSA12A8C1419AA      1\n",
      "SOMMKCC12AB01849B0      1\n",
      "SOMTLGA12A6D4FA56D      1\n",
      "SOOATPK12A8C13B1AF      1\n",
      "Name: count, Length: 105069, dtype: int64\n"
     ]
    }
   ],
   "source": [
    "print(taste_profile['song_id'].value_counts())"
   ]
  },
  {
   "cell_type": "markdown",
   "id": "a331b522-9a74-48b9-935a-2a0185fcbc30",
   "metadata": {},
   "source": [
    "## Visualizing play count"
   ]
  },
  {
   "cell_type": "code",
   "execution_count": 28,
   "id": "d604713d-6d79-4298-9203-dce4c4199440",
   "metadata": {},
   "outputs": [
    {
     "name": "stdout",
     "output_type": "stream",
     "text": [
      "play_count\n",
      "1      293506\n",
      "2       76738\n",
      "3       34081\n",
      "5       23721\n",
      "4       18887\n",
      "        ...  \n",
      "153         1\n",
      "147         1\n",
      "221         1\n",
      "302         1\n",
      "237         1\n",
      "Name: count, Length: 199, dtype: int64\n"
     ]
    }
   ],
   "source": [
    "print(taste_profile['play_count'].value_counts())"
   ]
  },
  {
   "cell_type": "markdown",
   "id": "b293f7a8-c349-44fc-b0ab-7558bcc32123",
   "metadata": {},
   "source": [
    "## Since the the frequency of high ouliter are low, lets remove the higher outliers. since lower bound is 1 and with highest frequency we are removing only upper bound."
   ]
  },
  {
   "cell_type": "code",
   "execution_count": 29,
   "id": "cfe64977-6ef2-44cf-9f1e-c08653b923a8",
   "metadata": {},
   "outputs": [],
   "source": [
    "def remove_high_outliers(taste_profile):\n",
    "    percentile_25 = taste_profile['play_count'].quantile(0.25)\n",
    "    percentile_75 = taste_profile['play_count'].quantile(0.75)\n",
    "    iqr_play_count = percentile_75 - percentile_25\n",
    "    # since lower bound is 1 and with highest frequency we are removing only upper bound.\n",
    "    upper_play_count_bound = percentile_75 + 1.5 * iqr_play_count\n",
    "    print(percentile_25, percentile_75, upper_play_count_bound)\n",
    "\n",
    "    # Identify and removing upper bound outliers based on IQR\n",
    "    taste_profile = taste_profile[(taste_profile['play_count'] <= upper_play_count_bound)]\n",
    "    return taste_profile"
   ]
  },
  {
   "cell_type": "code",
   "execution_count": 30,
   "id": "c4a43ea6-1eeb-4552-8f03-1772bc9a605a",
   "metadata": {},
   "outputs": [
    {
     "name": "stdout",
     "output_type": "stream",
     "text": [
      "Before outlier removal 500000\n",
      "1.0 3.0 6.0\n",
      "After outlier removal 457845\n"
     ]
    }
   ],
   "source": [
    "print(\"Before outlier removal\", len(taste_profile))\n",
    "taste_profile = remove_high_outliers(taste_profile)\n",
    "taste_profile = taste_profile.reset_index(drop=True)\n",
    "print(\"After outlier removal\", len(taste_profile))"
   ]
  },
  {
   "cell_type": "markdown",
   "id": "2364dd5e-abf0-45a0-99a8-0512f665f8c3",
   "metadata": {},
   "source": [
    "## we have remove around 42000 users enteries"
   ]
  },
  {
   "cell_type": "markdown",
   "id": "019c90b2-fd35-4a15-a82e-d0dad88bcb13",
   "metadata": {},
   "source": [
    "##  Reading track metadata"
   ]
  },
  {
   "cell_type": "code",
   "execution_count": 32,
   "id": "4056bcaa-a005-41fd-bc9c-10e806c8d71f",
   "metadata": {},
   "outputs": [
    {
     "data": {
      "text/html": [
       "<div>\n",
       "<style scoped>\n",
       "    .dataframe tbody tr th:only-of-type {\n",
       "        vertical-align: middle;\n",
       "    }\n",
       "\n",
       "    .dataframe tbody tr th {\n",
       "        vertical-align: top;\n",
       "    }\n",
       "\n",
       "    .dataframe thead th {\n",
       "        text-align: right;\n",
       "    }\n",
       "</style>\n",
       "<table border=\"1\" class=\"dataframe\">\n",
       "  <thead>\n",
       "    <tr style=\"text-align: right;\">\n",
       "      <th></th>\n",
       "      <th>track_id</th>\n",
       "      <th>title</th>\n",
       "      <th>song_id</th>\n",
       "      <th>release</th>\n",
       "      <th>artist_id</th>\n",
       "      <th>artist_mbid</th>\n",
       "      <th>artist_name</th>\n",
       "      <th>duration</th>\n",
       "      <th>artist_familiarity</th>\n",
       "      <th>artist_hotttnesss</th>\n",
       "      <th>year</th>\n",
       "      <th>track_7digitalid</th>\n",
       "      <th>shs_perf</th>\n",
       "      <th>shs_work</th>\n",
       "    </tr>\n",
       "  </thead>\n",
       "  <tbody>\n",
       "    <tr>\n",
       "      <th>0</th>\n",
       "      <td>TRMMMYQ128F932D901</td>\n",
       "      <td>Silent Night</td>\n",
       "      <td>SOQMMHC12AB0180CB8</td>\n",
       "      <td>Monster Ballads X-Mas</td>\n",
       "      <td>ARYZTJS1187B98C555</td>\n",
       "      <td>357ff05d-848a-44cf-b608-cb34b5701ae5</td>\n",
       "      <td>Faster Pussy cat</td>\n",
       "      <td>252.05506</td>\n",
       "      <td>0.649822</td>\n",
       "      <td>0.394032</td>\n",
       "      <td>2003</td>\n",
       "      <td>7032331</td>\n",
       "      <td>-1</td>\n",
       "      <td>0</td>\n",
       "    </tr>\n",
       "    <tr>\n",
       "      <th>1</th>\n",
       "      <td>TRMMMKD128F425225D</td>\n",
       "      <td>Tanssi vaan</td>\n",
       "      <td>SOVFVAK12A8C1350D9</td>\n",
       "      <td>Karkuteillä</td>\n",
       "      <td>ARMVN3U1187FB3A1EB</td>\n",
       "      <td>8d7ef530-a6fd-4f8f-b2e2-74aec765e0f9</td>\n",
       "      <td>Karkkiautomaatti</td>\n",
       "      <td>156.55138</td>\n",
       "      <td>0.439604</td>\n",
       "      <td>0.356992</td>\n",
       "      <td>1995</td>\n",
       "      <td>1514808</td>\n",
       "      <td>-1</td>\n",
       "      <td>0</td>\n",
       "    </tr>\n",
       "    <tr>\n",
       "      <th>2</th>\n",
       "      <td>TRMMMRX128F93187D9</td>\n",
       "      <td>No One Could Ever</td>\n",
       "      <td>SOGTUKN12AB017F4F1</td>\n",
       "      <td>Butter</td>\n",
       "      <td>ARGEKB01187FB50750</td>\n",
       "      <td>3d403d44-36ce-465c-ad43-ae877e65adc4</td>\n",
       "      <td>Hudson Mohawke</td>\n",
       "      <td>138.97098</td>\n",
       "      <td>0.643681</td>\n",
       "      <td>0.437504</td>\n",
       "      <td>2006</td>\n",
       "      <td>6945353</td>\n",
       "      <td>-1</td>\n",
       "      <td>0</td>\n",
       "    </tr>\n",
       "    <tr>\n",
       "      <th>3</th>\n",
       "      <td>TRMMMCH128F425532C</td>\n",
       "      <td>Si Vos Querés</td>\n",
       "      <td>SOBNYVR12A8C13558C</td>\n",
       "      <td>De Culo</td>\n",
       "      <td>ARNWYLR1187B9B2F9C</td>\n",
       "      <td>12be7648-7094-495f-90e6-df4189d68615</td>\n",
       "      <td>Yerba Brava</td>\n",
       "      <td>145.05751</td>\n",
       "      <td>0.448501</td>\n",
       "      <td>0.372349</td>\n",
       "      <td>2003</td>\n",
       "      <td>2168257</td>\n",
       "      <td>-1</td>\n",
       "      <td>0</td>\n",
       "    </tr>\n",
       "    <tr>\n",
       "      <th>4</th>\n",
       "      <td>TRMMMWA128F426B589</td>\n",
       "      <td>Tangle Of Aspens</td>\n",
       "      <td>SOHSBXH12A8C13B0DF</td>\n",
       "      <td>Rene Ablaze Presents Winter Sessions</td>\n",
       "      <td>AREQDTE1269FB37231</td>\n",
       "      <td>NaN</td>\n",
       "      <td>Der Mystic</td>\n",
       "      <td>514.29832</td>\n",
       "      <td>0.000000</td>\n",
       "      <td>0.000000</td>\n",
       "      <td>0</td>\n",
       "      <td>2264873</td>\n",
       "      <td>-1</td>\n",
       "      <td>0</td>\n",
       "    </tr>\n",
       "  </tbody>\n",
       "</table>\n",
       "</div>"
      ],
      "text/plain": [
       "             track_id              title             song_id   \n",
       "0  TRMMMYQ128F932D901       Silent Night  SOQMMHC12AB0180CB8  \\\n",
       "1  TRMMMKD128F425225D        Tanssi vaan  SOVFVAK12A8C1350D9   \n",
       "2  TRMMMRX128F93187D9  No One Could Ever  SOGTUKN12AB017F4F1   \n",
       "3  TRMMMCH128F425532C      Si Vos Querés  SOBNYVR12A8C13558C   \n",
       "4  TRMMMWA128F426B589   Tangle Of Aspens  SOHSBXH12A8C13B0DF   \n",
       "\n",
       "                                release           artist_id   \n",
       "0                 Monster Ballads X-Mas  ARYZTJS1187B98C555  \\\n",
       "1                           Karkuteillä  ARMVN3U1187FB3A1EB   \n",
       "2                                Butter  ARGEKB01187FB50750   \n",
       "3                               De Culo  ARNWYLR1187B9B2F9C   \n",
       "4  Rene Ablaze Presents Winter Sessions  AREQDTE1269FB37231   \n",
       "\n",
       "                            artist_mbid       artist_name   duration   \n",
       "0  357ff05d-848a-44cf-b608-cb34b5701ae5  Faster Pussy cat  252.05506  \\\n",
       "1  8d7ef530-a6fd-4f8f-b2e2-74aec765e0f9  Karkkiautomaatti  156.55138   \n",
       "2  3d403d44-36ce-465c-ad43-ae877e65adc4    Hudson Mohawke  138.97098   \n",
       "3  12be7648-7094-495f-90e6-df4189d68615       Yerba Brava  145.05751   \n",
       "4                                   NaN        Der Mystic  514.29832   \n",
       "\n",
       "   artist_familiarity  artist_hotttnesss  year  track_7digitalid  shs_perf   \n",
       "0            0.649822           0.394032  2003           7032331        -1  \\\n",
       "1            0.439604           0.356992  1995           1514808        -1   \n",
       "2            0.643681           0.437504  2006           6945353        -1   \n",
       "3            0.448501           0.372349  2003           2168257        -1   \n",
       "4            0.000000           0.000000     0           2264873        -1   \n",
       "\n",
       "   shs_work  \n",
       "0         0  \n",
       "1         0  \n",
       "2         0  \n",
       "3         0  \n",
       "4         0  "
      ]
     },
     "execution_count": 32,
     "metadata": {},
     "output_type": "execute_result"
    }
   ],
   "source": [
    "# Convert the table to a Pandas DataFrame\n",
    "track_metadata = pd.read_csv('track_metadata.csv')\n",
    "track_metadata.head()"
   ]
  },
  {
   "cell_type": "markdown",
   "id": "41a9bda4-576f-4dcf-8cff-8e5b2e6eaaea",
   "metadata": {},
   "source": [
    "## List of Artist with maximum songs"
   ]
  },
  {
   "cell_type": "code",
   "execution_count": 34,
   "id": "40d10671-62b7-4e32-81a6-665d4815bd69",
   "metadata": {},
   "outputs": [
    {
     "name": "stdout",
     "output_type": "stream",
     "text": [
      "artist_name\n",
      "Michael Jackson                                                               194\n",
      "Johnny Cash                                                                   193\n",
      "Beastie Boys                                                                  187\n",
      "Joan Baez                                                                     181\n",
      "Neil Diamond                                                                  176\n",
      "                                                                             ... \n",
      "Queen vs The Miami Project                                                      1\n",
      "Ernst Mosch Und Seine Original Egerländer Musikanten                            1\n",
      "Jimmie Rodgers.                                                                 1\n",
      "Cherokee;Erika Sulpacio;Tim Owens;Myron McKinley;Andrew Gooche;Taku Hirano      1\n",
      "Killer Mike feat. Gangsta Pill and Nario of Grind Time Rap Gang                 1\n",
      "Name: count, Length: 72665, dtype: int64\n"
     ]
    }
   ],
   "source": [
    "print(track_metadata['artist_name'].value_counts())"
   ]
  },
  {
   "cell_type": "markdown",
   "id": "18711e67-4d50-4fb3-9e7a-98b4c23eb359",
   "metadata": {},
   "source": [
    "## Merging tracks and user data"
   ]
  },
  {
   "cell_type": "code",
   "execution_count": 36,
   "id": "daea0db3-86d5-4257-959e-06fd84743fab",
   "metadata": {},
   "outputs": [
    {
     "data": {
      "text/html": [
       "<div>\n",
       "<style scoped>\n",
       "    .dataframe tbody tr th:only-of-type {\n",
       "        vertical-align: middle;\n",
       "    }\n",
       "\n",
       "    .dataframe tbody tr th {\n",
       "        vertical-align: top;\n",
       "    }\n",
       "\n",
       "    .dataframe thead th {\n",
       "        text-align: right;\n",
       "    }\n",
       "</style>\n",
       "<table border=\"1\" class=\"dataframe\">\n",
       "  <thead>\n",
       "    <tr style=\"text-align: right;\">\n",
       "      <th></th>\n",
       "      <th>song_id</th>\n",
       "      <th>user_id</th>\n",
       "      <th>play_count</th>\n",
       "    </tr>\n",
       "  </thead>\n",
       "  <tbody>\n",
       "    <tr>\n",
       "      <th>0</th>\n",
       "      <td>SOSDCFG12AB0184647</td>\n",
       "      <td>9dc8b0f000792df949a0a0ad8eba2724335568f7</td>\n",
       "      <td>1</td>\n",
       "    </tr>\n",
       "    <tr>\n",
       "      <th>1</th>\n",
       "      <td>SOIMMJJ12AF72AD643</td>\n",
       "      <td>90b540cbb748698bed8eed0803b8b982b742317a</td>\n",
       "      <td>2</td>\n",
       "    </tr>\n",
       "    <tr>\n",
       "      <th>2</th>\n",
       "      <td>SOGNNYL12A6D4F910B</td>\n",
       "      <td>ef60f1da62dd1d05ae22e2990907b167c3171389</td>\n",
       "      <td>1</td>\n",
       "    </tr>\n",
       "    <tr>\n",
       "      <th>3</th>\n",
       "      <td>SOGNNYL12A6D4F910B</td>\n",
       "      <td>d9c5b04d124ee437ff58490ad3024fcaf054cf7a</td>\n",
       "      <td>1</td>\n",
       "    </tr>\n",
       "    <tr>\n",
       "      <th>4</th>\n",
       "      <td>SODDEQU12AAF3B2FC8</td>\n",
       "      <td>50fbf687c5eb1df4375671893c1394474822c87e</td>\n",
       "      <td>2</td>\n",
       "    </tr>\n",
       "  </tbody>\n",
       "</table>\n",
       "</div>"
      ],
      "text/plain": [
       "              song_id                                   user_id  play_count\n",
       "0  SOSDCFG12AB0184647  9dc8b0f000792df949a0a0ad8eba2724335568f7           1\n",
       "1  SOIMMJJ12AF72AD643  90b540cbb748698bed8eed0803b8b982b742317a           2\n",
       "2  SOGNNYL12A6D4F910B  ef60f1da62dd1d05ae22e2990907b167c3171389           1\n",
       "3  SOGNNYL12A6D4F910B  d9c5b04d124ee437ff58490ad3024fcaf054cf7a           1\n",
       "4  SODDEQU12AAF3B2FC8  50fbf687c5eb1df4375671893c1394474822c87e           2"
      ]
     },
     "execution_count": 36,
     "metadata": {},
     "output_type": "execute_result"
    }
   ],
   "source": [
    "combined_data = pd.merge(pd.DataFrame(track_metadata,columns=['song_id']),taste_profile,on=\"song_id\",how='inner')\n",
    "combined_data.head()"
   ]
  },
  {
   "cell_type": "markdown",
   "id": "c4c65d11-3690-4846-b833-fc2a5deee79e",
   "metadata": {},
   "source": [
    "## Training XGBoost"
   ]
  },
  {
   "cell_type": "code",
   "execution_count": 42,
   "id": "2b5b608c-f287-43a2-82e8-c284431019b4",
   "metadata": {},
   "outputs": [
    {
     "data": {
      "text/html": [
       "<div>\n",
       "<style scoped>\n",
       "    .dataframe tbody tr th:only-of-type {\n",
       "        vertical-align: middle;\n",
       "    }\n",
       "\n",
       "    .dataframe tbody tr th {\n",
       "        vertical-align: top;\n",
       "    }\n",
       "\n",
       "    .dataframe thead th {\n",
       "        text-align: right;\n",
       "    }\n",
       "</style>\n",
       "<table border=\"1\" class=\"dataframe\">\n",
       "  <thead>\n",
       "    <tr style=\"text-align: right;\">\n",
       "      <th></th>\n",
       "      <th>user_id</th>\n",
       "      <th>song_id</th>\n",
       "      <th>play_count</th>\n",
       "    </tr>\n",
       "  </thead>\n",
       "  <tbody>\n",
       "    <tr>\n",
       "      <th>0</th>\n",
       "      <td>b80344d063b5ccb3212f76538f3d9e43d87dca9e</td>\n",
       "      <td>SOAKIMP12A8C130995</td>\n",
       "      <td>1</td>\n",
       "    </tr>\n",
       "    <tr>\n",
       "      <th>1</th>\n",
       "      <td>b80344d063b5ccb3212f76538f3d9e43d87dca9e</td>\n",
       "      <td>SOAPDEY12A81C210A9</td>\n",
       "      <td>1</td>\n",
       "    </tr>\n",
       "    <tr>\n",
       "      <th>2</th>\n",
       "      <td>b80344d063b5ccb3212f76538f3d9e43d87dca9e</td>\n",
       "      <td>SOBBMDR12A8C13253B</td>\n",
       "      <td>2</td>\n",
       "    </tr>\n",
       "    <tr>\n",
       "      <th>3</th>\n",
       "      <td>b80344d063b5ccb3212f76538f3d9e43d87dca9e</td>\n",
       "      <td>SOBFNSP12AF72A0E22</td>\n",
       "      <td>1</td>\n",
       "    </tr>\n",
       "    <tr>\n",
       "      <th>4</th>\n",
       "      <td>b80344d063b5ccb3212f76538f3d9e43d87dca9e</td>\n",
       "      <td>SOBFOVM12A58A7D494</td>\n",
       "      <td>1</td>\n",
       "    </tr>\n",
       "  </tbody>\n",
       "</table>\n",
       "</div>"
      ],
      "text/plain": [
       "                                    user_id             song_id  play_count\n",
       "0  b80344d063b5ccb3212f76538f3d9e43d87dca9e  SOAKIMP12A8C130995           1\n",
       "1  b80344d063b5ccb3212f76538f3d9e43d87dca9e  SOAPDEY12A81C210A9           1\n",
       "2  b80344d063b5ccb3212f76538f3d9e43d87dca9e  SOBBMDR12A8C13253B           2\n",
       "3  b80344d063b5ccb3212f76538f3d9e43d87dca9e  SOBFNSP12AF72A0E22           1\n",
       "4  b80344d063b5ccb3212f76538f3d9e43d87dca9e  SOBFOVM12A58A7D494           1"
      ]
     },
     "execution_count": 42,
     "metadata": {},
     "output_type": "execute_result"
    }
   ],
   "source": [
    "taste_profile.head()"
   ]
  },
  {
   "cell_type": "code",
   "execution_count": 43,
   "id": "d58dcb2a-594f-42ce-b525-dee6acc2a34e",
   "metadata": {},
   "outputs": [],
   "source": [
    "from sklearn.preprocessing import LabelEncoder \n",
    "data_encoder_song = LabelEncoder()\n",
    "data_encoder_user = LabelEncoder()\n",
    "\n",
    "taste_profile['song_id'] = data_encoder_song.fit_transform(taste_profile['song_id'])\n",
    "taste_profile['user_id'] = data_encoder_user.fit_transform(taste_profile['user_id'])"
   ]
  },
  {
   "cell_type": "code",
   "execution_count": 44,
   "id": "c235511f-d6aa-4955-8544-7847ef12ba62",
   "metadata": {},
   "outputs": [],
   "source": [
    "X, y = taste_profile.iloc[:, :-1], taste_profile.iloc[:, -1] "
   ]
  },
  {
   "cell_type": "code",
   "execution_count": 46,
   "id": "14f85ef5-4ba1-4552-8913-e3772463e705",
   "metadata": {},
   "outputs": [],
   "source": [
    "# Splitting \n",
    "train_X, test_X, train_y, test_y = train_test_split(X, y,  test_size = 0.3, random_state = 123) "
   ]
  },
  {
   "cell_type": "code",
   "execution_count": 47,
   "id": "362de521-40b4-4457-975d-e91c22ec7e2d",
   "metadata": {},
   "outputs": [],
   "source": [
    "# Instantiation \n",
    "xgb_r = xg.XGBRegressor(objective ='reg:linear', n_estimators = 10, seed = 123) "
   ]
  },
  {
   "cell_type": "code",
   "execution_count": 48,
   "id": "93eb48af-65d1-4c77-90cc-4b316bf41580",
   "metadata": {},
   "outputs": [
    {
     "name": "stderr",
     "output_type": "stream",
     "text": [
      "/usr/local/lib/python3.8/dist-packages/xgboost/core.py:160: UserWarning: [02:48:42] WARNING: /workspace/src/objective/regression_obj.cu:209: reg:linear is now deprecated in favor of reg:squarederror.\n",
      "  warnings.warn(smsg, UserWarning)\n"
     ]
    },
    {
     "data": {
      "text/html": [
       "<style>#sk-container-id-1 {color: black;background-color: white;}#sk-container-id-1 pre{padding: 0;}#sk-container-id-1 div.sk-toggleable {background-color: white;}#sk-container-id-1 label.sk-toggleable__label {cursor: pointer;display: block;width: 100%;margin-bottom: 0;padding: 0.3em;box-sizing: border-box;text-align: center;}#sk-container-id-1 label.sk-toggleable__label-arrow:before {content: \"▸\";float: left;margin-right: 0.25em;color: #696969;}#sk-container-id-1 label.sk-toggleable__label-arrow:hover:before {color: black;}#sk-container-id-1 div.sk-estimator:hover label.sk-toggleable__label-arrow:before {color: black;}#sk-container-id-1 div.sk-toggleable__content {max-height: 0;max-width: 0;overflow: hidden;text-align: left;background-color: #f0f8ff;}#sk-container-id-1 div.sk-toggleable__content pre {margin: 0.2em;color: black;border-radius: 0.25em;background-color: #f0f8ff;}#sk-container-id-1 input.sk-toggleable__control:checked~div.sk-toggleable__content {max-height: 200px;max-width: 100%;overflow: auto;}#sk-container-id-1 input.sk-toggleable__control:checked~label.sk-toggleable__label-arrow:before {content: \"▾\";}#sk-container-id-1 div.sk-estimator input.sk-toggleable__control:checked~label.sk-toggleable__label {background-color: #d4ebff;}#sk-container-id-1 div.sk-label input.sk-toggleable__control:checked~label.sk-toggleable__label {background-color: #d4ebff;}#sk-container-id-1 input.sk-hidden--visually {border: 0;clip: rect(1px 1px 1px 1px);clip: rect(1px, 1px, 1px, 1px);height: 1px;margin: -1px;overflow: hidden;padding: 0;position: absolute;width: 1px;}#sk-container-id-1 div.sk-estimator {font-family: monospace;background-color: #f0f8ff;border: 1px dotted black;border-radius: 0.25em;box-sizing: border-box;margin-bottom: 0.5em;}#sk-container-id-1 div.sk-estimator:hover {background-color: #d4ebff;}#sk-container-id-1 div.sk-parallel-item::after {content: \"\";width: 100%;border-bottom: 1px solid gray;flex-grow: 1;}#sk-container-id-1 div.sk-label:hover label.sk-toggleable__label {background-color: #d4ebff;}#sk-container-id-1 div.sk-serial::before {content: \"\";position: absolute;border-left: 1px solid gray;box-sizing: border-box;top: 0;bottom: 0;left: 50%;z-index: 0;}#sk-container-id-1 div.sk-serial {display: flex;flex-direction: column;align-items: center;background-color: white;padding-right: 0.2em;padding-left: 0.2em;position: relative;}#sk-container-id-1 div.sk-item {position: relative;z-index: 1;}#sk-container-id-1 div.sk-parallel {display: flex;align-items: stretch;justify-content: center;background-color: white;position: relative;}#sk-container-id-1 div.sk-item::before, #sk-container-id-1 div.sk-parallel-item::before {content: \"\";position: absolute;border-left: 1px solid gray;box-sizing: border-box;top: 0;bottom: 0;left: 50%;z-index: -1;}#sk-container-id-1 div.sk-parallel-item {display: flex;flex-direction: column;z-index: 1;position: relative;background-color: white;}#sk-container-id-1 div.sk-parallel-item:first-child::after {align-self: flex-end;width: 50%;}#sk-container-id-1 div.sk-parallel-item:last-child::after {align-self: flex-start;width: 50%;}#sk-container-id-1 div.sk-parallel-item:only-child::after {width: 0;}#sk-container-id-1 div.sk-dashed-wrapped {border: 1px dashed gray;margin: 0 0.4em 0.5em 0.4em;box-sizing: border-box;padding-bottom: 0.4em;background-color: white;}#sk-container-id-1 div.sk-label label {font-family: monospace;font-weight: bold;display: inline-block;line-height: 1.2em;}#sk-container-id-1 div.sk-label-container {text-align: center;}#sk-container-id-1 div.sk-container {/* jupyter's `normalize.less` sets `[hidden] { display: none; }` but bootstrap.min.css set `[hidden] { display: none !important; }` so we also need the `!important` here to be able to override the default hidden behavior on the sphinx rendered scikit-learn.org. See: https://github.com/scikit-learn/scikit-learn/issues/21755 */display: inline-block !important;position: relative;}#sk-container-id-1 div.sk-text-repr-fallback {display: none;}</style><div id=\"sk-container-id-1\" class=\"sk-top-container\"><div class=\"sk-text-repr-fallback\"><pre>XGBRegressor(base_score=None, booster=None, callbacks=None,\n",
       "             colsample_bylevel=None, colsample_bynode=None,\n",
       "             colsample_bytree=None, device=None, early_stopping_rounds=None,\n",
       "             enable_categorical=False, eval_metric=None, feature_types=None,\n",
       "             gamma=None, grow_policy=None, importance_type=None,\n",
       "             interaction_constraints=None, learning_rate=None, max_bin=None,\n",
       "             max_cat_threshold=None, max_cat_to_onehot=None,\n",
       "             max_delta_step=None, max_depth=None, max_leaves=None,\n",
       "             min_child_weight=None, missing=nan, monotone_constraints=None,\n",
       "             multi_strategy=None, n_estimators=10, n_jobs=None,\n",
       "             num_parallel_tree=None, objective=&#x27;reg:linear&#x27;, ...)</pre><b>In a Jupyter environment, please rerun this cell to show the HTML representation or trust the notebook. <br />On GitHub, the HTML representation is unable to render, please try loading this page with nbviewer.org.</b></div><div class=\"sk-container\" hidden><div class=\"sk-item\"><div class=\"sk-estimator sk-toggleable\"><input class=\"sk-toggleable__control sk-hidden--visually\" id=\"sk-estimator-id-1\" type=\"checkbox\" checked><label for=\"sk-estimator-id-1\" class=\"sk-toggleable__label sk-toggleable__label-arrow\">XGBRegressor</label><div class=\"sk-toggleable__content\"><pre>XGBRegressor(base_score=None, booster=None, callbacks=None,\n",
       "             colsample_bylevel=None, colsample_bynode=None,\n",
       "             colsample_bytree=None, device=None, early_stopping_rounds=None,\n",
       "             enable_categorical=False, eval_metric=None, feature_types=None,\n",
       "             gamma=None, grow_policy=None, importance_type=None,\n",
       "             interaction_constraints=None, learning_rate=None, max_bin=None,\n",
       "             max_cat_threshold=None, max_cat_to_onehot=None,\n",
       "             max_delta_step=None, max_depth=None, max_leaves=None,\n",
       "             min_child_weight=None, missing=nan, monotone_constraints=None,\n",
       "             multi_strategy=None, n_estimators=10, n_jobs=None,\n",
       "             num_parallel_tree=None, objective=&#x27;reg:linear&#x27;, ...)</pre></div></div></div></div></div>"
      ],
      "text/plain": [
       "XGBRegressor(base_score=None, booster=None, callbacks=None,\n",
       "             colsample_bylevel=None, colsample_bynode=None,\n",
       "             colsample_bytree=None, device=None, early_stopping_rounds=None,\n",
       "             enable_categorical=False, eval_metric=None, feature_types=None,\n",
       "             gamma=None, grow_policy=None, importance_type=None,\n",
       "             interaction_constraints=None, learning_rate=None, max_bin=None,\n",
       "             max_cat_threshold=None, max_cat_to_onehot=None,\n",
       "             max_delta_step=None, max_depth=None, max_leaves=None,\n",
       "             min_child_weight=None, missing=nan, monotone_constraints=None,\n",
       "             multi_strategy=None, n_estimators=10, n_jobs=None,\n",
       "             num_parallel_tree=None, objective='reg:linear', ...)"
      ]
     },
     "execution_count": 48,
     "metadata": {},
     "output_type": "execute_result"
    }
   ],
   "source": [
    "# Fitting the model \n",
    "xgb_r.fit(train_X, train_y) "
   ]
  },
  {
   "cell_type": "markdown",
   "id": "b9476f6e-fdd3-49d3-8669-922b03d522ba",
   "metadata": {},
   "source": [
    "## Prediction on Test Data"
   ]
  },
  {
   "cell_type": "code",
   "execution_count": 49,
   "id": "1d2b1283-0364-4b44-8ff0-247dca39b7da",
   "metadata": {},
   "outputs": [],
   "source": [
    "# Predict the model \n",
    "pred = xgb_r.predict(test_X)"
   ]
  },
  {
   "cell_type": "markdown",
   "id": "db6ee7e1-edaa-4a31-afbf-e9dcfc086572",
   "metadata": {},
   "source": [
    "## Evaluation on Test Data"
   ]
  },
  {
   "cell_type": "code",
   "execution_count": 52,
   "id": "6069b02c-853f-4f66-87fc-051d31a90bba",
   "metadata": {},
   "outputs": [
    {
     "name": "stdout",
     "output_type": "stream",
     "text": [
      "Test RMSE: 1.2892230414358912\n",
      "Test MAE: 0.9898306176776185\n",
      "Test r2: 0.002058394623884019\n"
     ]
    }
   ],
   "source": [
    "from sklearn.metrics import mean_squared_error,r2_score,mean_absolute_error\n",
    "# Evaluate model\n",
    "rmse = np.sqrt(mean_squared_error(test_y, pred))\n",
    "r2 = r2_score(test_y, pred)\n",
    "mae = np.sqrt(mean_absolute_error(test_y, pred))\n",
    "print('Test RMSE:', rmse)\n",
    "print('Test MAE:', mae)\n",
    "print('Test r2:', r2)"
   ]
  },
  {
   "cell_type": "markdown",
   "id": "27d716ea-23b4-47fb-8cea-86ffa2cbd93a",
   "metadata": {},
   "source": [
    "## Running on Train Data"
   ]
  },
  {
   "cell_type": "code",
   "execution_count": 54,
   "id": "06d74040-380a-45b9-86b1-e49745ae8e4c",
   "metadata": {},
   "outputs": [],
   "source": [
    "# Predict the model \n",
    "train_pred = xgb_r.predict(train_X)"
   ]
  },
  {
   "cell_type": "markdown",
   "id": "04ef524d-6860-4564-bd14-4357ead0e19e",
   "metadata": {},
   "source": [
    "## Evaluation on Train Data"
   ]
  },
  {
   "cell_type": "code",
   "execution_count": 55,
   "id": "2f5afa2a-223b-4271-af45-970fbe9e0653",
   "metadata": {},
   "outputs": [
    {
     "name": "stdout",
     "output_type": "stream",
     "text": [
      "Test RMSE: 1.2911044698562515\n",
      "Test MAE: 0.9898207276304773\n",
      "Test r2: 0.006092014396978707\n"
     ]
    }
   ],
   "source": [
    "from sklearn.metrics import mean_squared_error,r2_score,mean_absolute_error\n",
    "# Evaluate model\n",
    "train_rmse = np.sqrt(mean_squared_error(train_y, train_pred))\n",
    "train_r2 = r2_score(train_y, train_pred)\n",
    "train_mae = np.sqrt(mean_absolute_error(train_y, train_pred))\n",
    "print('Test RMSE:', train_rmse)\n",
    "print('Test MAE:', train_mae)\n",
    "print('Test r2:', train_r2)"
   ]
  }
 ],
 "metadata": {
  "kernelspec": {
   "display_name": "Python 3 (ipykernel)",
   "language": "python",
   "name": "python3"
  },
  "language_info": {
   "codemirror_mode": {
    "name": "ipython",
    "version": 3
   },
   "file_extension": ".py",
   "mimetype": "text/x-python",
   "name": "python",
   "nbconvert_exporter": "python",
   "pygments_lexer": "ipython3",
   "version": "3.8.10"
  }
 },
 "nbformat": 4,
 "nbformat_minor": 5
}
